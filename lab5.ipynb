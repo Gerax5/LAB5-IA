{
 "cells": [
  {
   "cell_type": "markdown",
   "metadata": {},
   "source": [
    "# 1"
   ]
  },
  {
   "cell_type": "markdown",
   "metadata": {},
   "source": [
    "## Implementación de librerias"
   ]
  },
  {
   "cell_type": "code",
   "execution_count": 83,
   "metadata": {},
   "outputs": [],
   "source": [
    "import numpy as np\n",
    "from PIL import Image\n",
    "from Problem import Problem"
   ]
  },
  {
   "cell_type": "markdown",
   "metadata": {},
   "source": [
    "# 1.1"
   ]
  },
  {
   "cell_type": "markdown",
   "metadata": {},
   "source": [
    "## Funciones de descretizacion"
   ]
  },
  {
   "cell_type": "code",
   "execution_count": 84,
   "metadata": {},
   "outputs": [],
   "source": [
    "import numpy as np\n",
    "from PIL import Image\n",
    "\n",
    "def colorSimilar(color, referencia, tolerancia=20):\n",
    "    return all(abs(int(c1) - int(c2)) <= tolerancia for c1, c2 in zip(color, referencia))\n",
    "\n",
    "\n",
    "# Función para clasificar una celda según el color predominante\n",
    "def clasificarCelda(pixeles):\n",
    "    conteo = {\"0\": 0, \"1\": 0, \"S\": 0, \"G\": 0}\n",
    "\n",
    "    BLANCO = (255, 255, 255)\n",
    "    NEGRO = (0, 0, 0)\n",
    "    ROJO = (255, 0, 0)\n",
    "    VERDE = (0, 255, 0)\n",
    "\n",
    "    for fila in pixeles:\n",
    "        for r, g, b in fila:\n",
    "            if colorSimilar((r, g, b), BLANCO):\n",
    "                conteo[\"0\"] += 1\n",
    "            elif colorSimilar((r, g, b), NEGRO):\n",
    "                conteo[\"1\"] += 1\n",
    "            elif colorSimilar((r, g, b), ROJO):\n",
    "                conteo[\"S\"] += 1\n",
    "            elif colorSimilar((r, g, b), VERDE):\n",
    "                conteo[\"G\"] += 1\n",
    "\n",
    "    return max(conteo, key=conteo.get)\n",
    "\n",
    "def discretizar_imagen(ruta_imagen, tamano_celda):\n",
    "    imagen = Image.open(ruta_imagen).convert(\"RGB\")\n",
    "    pixeles = np.array(imagen)\n",
    "    alto, ancho, _ = pixeles.shape\n",
    "\n",
    "    filas = alto // tamano_celda\n",
    "    columnas = ancho // tamano_celda\n",
    "\n",
    "    laberinto = np.zeros((filas, columnas), dtype=str)\n",
    "\n",
    "    for y in range(filas):\n",
    "        for x in range(columnas):\n",
    "            celda_pixeles = pixeles[y * tamano_celda:(y + 1) * tamano_celda, \n",
    "                                    x * tamano_celda:(x + 1) * tamano_celda]\n",
    "\n",
    "            laberinto[y, x] = clasificarCelda(celda_pixeles)\n",
    "\n",
    "    return laberinto\n"
   ]
  },
  {
   "cell_type": "markdown",
   "metadata": {},
   "source": [
    "## Aplicacion"
   ]
  },
  {
   "cell_type": "code",
   "execution_count": 85,
   "metadata": {},
   "outputs": [
    {
     "name": "stdout",
     "output_type": "stream",
     "text": [
      "\n",
      "Matriz del laberinto:\n",
      "1 1 1 1 1 1 1 1 1 1 1 1 1 1 1 1 1 1 1 1 1 1 1 1 1 1 1 1 1 1 1 1 1 1 1 1 1 1 1 1 1 1 1 1 1 1 1 1 1 1 1 1 1 1 1 1 1 1\n",
      "0 0 0 0 0 0 0 0 0 0 0 0 0 0 0 0 0 0 0 0 0 0 0 0 0 0 0 0 0 0 0 0 0 0 0 0 0 0 0 0 0 0 0 0 0 0 0 0 0 0 0 0 0 0 0 0 0 0\n",
      "0 0 0 0 0 0 0 0 0 0 0 0 0 0 0 0 0 0 0 0 0 0 0 0 0 0 0 0 0 0 0 0 0 0 0 0 0 0 0 0 0 0 0 0 0 0 0 0 0 0 0 0 0 0 0 0 0 0\n",
      "0 0 0 0 0 0 0 0 0 0 0 0 0 0 0 0 0 0 0 0 0 0 0 0 0 0 0 0 0 0 0 0 0 0 0 0 0 0 0 0 0 0 0 0 0 0 0 0 0 0 0 0 0 0 0 0 0 0\n",
      "0 0 0 0 0 0 0 0 0 0 0 0 0 0 0 0 0 0 0 0 0 0 0 0 0 0 0 0 0 0 0 0 0 0 0 0 0 0 0 0 0 0 0 0 0 0 0 0 0 0 0 0 0 0 0 0 0 0\n",
      "0 0 0 0 G G G 0 0 0 0 0 0 0 0 0 0 0 0 0 0 0 0 0 0 0 0 0 0 0 0 0 0 0 0 0 0 0 0 0 0 0 0 0 0 0 0 0 0 0 0 0 0 0 0 0 0 0\n",
      "0 0 0 0 G G G 0 0 0 0 0 0 0 0 0 0 0 0 0 0 0 0 0 0 0 0 0 0 0 0 0 0 0 0 0 0 0 0 0 0 0 0 0 1 1 0 0 0 0 0 0 0 0 0 0 0 0\n",
      "0 0 0 0 G G G 0 0 0 0 0 0 0 0 0 0 0 0 0 0 0 0 0 0 0 0 0 0 0 0 0 0 0 0 0 0 0 0 0 0 0 0 1 1 1 1 1 0 0 0 0 0 0 0 0 0 0\n",
      "0 0 0 0 0 0 0 0 0 0 0 0 0 0 0 0 0 0 0 0 0 0 0 0 0 0 0 0 0 0 0 0 0 0 0 0 0 0 0 0 0 0 1 1 1 1 1 1 1 1 0 0 0 0 0 0 0 0\n",
      "0 0 0 0 0 0 0 0 0 0 0 0 0 0 0 0 0 0 0 0 0 0 0 0 0 0 0 0 0 0 0 0 0 0 0 0 0 0 0 0 1 1 1 1 1 1 1 1 1 1 1 1 0 0 0 0 0 0\n",
      "0 0 0 0 0 0 0 0 0 0 0 0 0 0 0 0 0 0 0 0 0 0 0 0 0 0 0 0 0 0 0 0 0 0 0 0 0 0 0 1 1 1 1 1 1 1 1 1 1 1 1 1 1 0 0 0 0 0\n",
      "0 0 0 0 0 0 0 0 0 0 0 0 0 0 0 0 0 0 0 0 0 0 0 0 0 0 0 0 0 0 0 0 0 0 0 0 0 0 1 1 1 1 1 1 1 1 1 1 1 1 1 1 1 0 0 0 0 0\n",
      "0 0 0 0 0 0 0 0 0 0 0 0 0 0 0 0 0 0 0 0 0 0 0 0 0 0 0 0 0 0 0 0 0 0 0 0 0 1 1 1 1 1 1 1 1 1 1 1 1 1 1 1 0 0 0 0 0 0\n",
      "0 0 0 0 0 0 0 0 0 0 0 0 0 0 0 0 0 0 0 0 0 0 0 0 0 0 0 0 0 0 0 0 0 0 0 0 1 1 1 1 1 1 1 1 1 1 1 1 1 1 1 0 0 0 0 0 0 0\n",
      "0 0 0 0 0 0 0 0 0 0 0 0 0 0 0 0 0 0 0 0 0 0 0 0 0 0 0 0 0 0 0 0 0 0 0 1 1 1 1 1 1 1 1 1 1 1 1 1 1 1 0 0 0 0 0 0 0 0\n",
      "0 0 0 0 0 0 0 0 0 0 0 0 0 0 0 0 0 0 0 0 0 0 0 0 0 0 0 0 0 0 0 0 0 0 1 1 1 1 1 1 1 1 1 1 1 1 1 1 1 0 0 0 0 0 0 0 0 0\n",
      "0 0 0 0 0 0 0 0 0 0 0 0 0 0 0 0 0 0 0 0 0 0 0 0 0 0 0 0 0 0 0 0 0 1 1 1 1 1 1 1 1 1 1 1 1 1 1 1 0 0 0 0 0 0 0 0 0 0\n",
      "0 0 0 0 0 0 0 0 0 0 0 0 0 0 0 0 0 0 0 0 0 0 0 0 0 0 0 0 0 0 0 0 1 1 1 1 1 1 1 1 1 1 1 1 1 1 0 0 0 0 0 0 0 0 0 0 0 0\n",
      "0 0 0 0 0 0 0 0 0 0 0 0 0 0 0 0 0 0 0 0 0 0 0 0 0 0 0 0 0 0 0 1 1 1 1 1 1 1 1 1 1 1 1 1 1 0 0 0 0 0 0 0 0 0 0 0 0 0\n",
      "0 0 0 0 0 0 0 0 0 0 0 0 0 0 0 0 0 0 0 0 0 0 0 0 0 0 0 0 0 1 1 1 1 1 1 1 1 1 1 1 1 1 1 1 0 0 0 0 0 0 0 0 0 0 0 0 0 0\n",
      "0 0 0 0 0 0 0 0 0 0 0 0 0 0 0 0 0 0 0 0 0 0 0 0 0 0 0 0 1 1 1 1 1 1 1 1 1 1 1 1 1 1 1 0 0 0 0 0 0 0 0 0 0 0 0 0 0 0\n",
      "0 0 0 0 0 0 0 0 0 0 0 0 0 0 0 0 0 0 0 0 0 0 0 0 0 0 0 1 1 1 1 1 1 1 1 1 1 1 1 1 1 1 0 0 0 0 0 0 0 0 0 0 0 0 0 0 0 0\n",
      "0 0 0 0 0 0 0 0 0 0 0 0 0 0 0 0 0 0 0 0 0 0 0 0 0 0 1 1 1 1 1 1 1 1 1 1 1 1 1 1 1 0 0 0 0 0 0 0 0 0 0 0 0 0 0 0 0 0\n",
      "0 0 0 0 0 0 0 0 0 0 0 0 0 0 0 0 0 0 0 0 0 0 0 0 0 1 1 1 1 1 1 1 1 1 1 1 1 1 1 1 0 0 0 0 0 0 0 0 0 0 0 0 0 0 0 0 0 0\n",
      "0 0 0 0 0 0 0 0 0 0 0 0 0 0 0 0 0 0 0 0 0 0 0 0 1 1 1 1 1 1 1 1 1 1 1 1 1 1 1 0 0 0 0 0 0 0 0 0 0 0 0 0 0 0 0 0 0 0\n",
      "0 0 0 0 0 0 0 0 0 0 0 0 0 0 0 0 0 0 0 0 0 0 0 1 1 1 1 1 1 1 1 1 1 1 1 1 1 0 0 0 0 0 0 0 0 0 0 0 0 0 0 0 0 0 0 0 0 0\n",
      "0 0 0 0 0 0 0 0 0 0 0 0 0 0 0 0 0 0 0 0 0 0 1 1 1 1 1 1 1 1 1 1 1 1 1 1 0 0 0 0 0 0 0 0 0 0 0 0 0 0 0 0 0 0 0 0 0 0\n",
      "0 0 0 0 0 0 0 0 0 0 0 0 0 0 0 0 0 0 0 0 0 1 1 1 1 1 1 1 1 1 1 1 1 1 1 0 0 0 0 0 0 0 0 0 0 0 0 0 0 0 0 0 0 0 0 0 0 0\n",
      "0 0 0 0 0 0 0 0 0 0 0 0 0 0 0 0 0 0 0 1 1 1 1 1 1 1 1 1 1 1 1 1 1 1 0 0 0 0 0 0 0 0 0 0 0 0 0 0 0 0 0 0 0 0 0 0 0 0\n",
      "0 0 0 0 0 0 0 0 0 0 0 0 0 0 0 0 0 0 1 1 1 1 1 1 1 1 1 1 1 1 1 1 1 0 0 0 0 0 0 0 0 0 0 0 0 0 0 0 0 0 0 0 0 0 0 0 0 0\n",
      "0 0 0 0 0 0 0 0 0 0 0 0 0 0 0 0 0 1 1 1 1 1 1 1 1 1 1 1 1 1 1 1 0 0 0 0 0 0 0 0 0 0 0 0 0 0 0 0 0 0 0 0 0 0 0 0 0 0\n",
      "0 0 0 0 0 0 0 0 0 0 0 0 0 0 0 0 1 1 1 1 1 1 1 1 1 1 1 1 1 1 1 0 0 0 0 0 0 0 0 0 0 0 0 0 0 0 0 0 0 0 0 0 0 0 0 0 0 0\n",
      "0 0 0 0 0 0 0 0 0 0 0 0 0 0 0 1 1 1 1 1 1 1 1 1 1 1 1 1 1 0 0 0 0 0 0 0 0 0 0 0 0 0 0 0 0 0 0 0 0 0 0 0 0 0 0 0 0 0\n",
      "0 0 0 0 0 0 0 0 0 0 0 0 0 0 1 1 1 1 1 1 1 1 1 1 1 1 1 1 0 0 0 0 0 0 0 0 0 0 0 0 0 0 0 0 0 0 0 0 0 0 0 0 0 0 0 0 0 0\n",
      "0 0 0 0 0 0 0 0 0 0 0 0 0 1 1 1 1 1 1 1 1 1 1 1 1 1 1 0 0 0 0 0 0 0 0 0 0 0 0 0 0 0 0 0 0 0 0 0 0 0 0 0 0 0 0 0 0 0\n",
      "0 0 0 0 0 0 0 0 0 0 0 0 1 1 1 1 1 1 1 1 1 1 1 1 1 1 0 0 0 0 0 0 0 0 0 0 0 0 0 0 0 0 0 0 0 0 0 0 0 0 0 0 0 0 0 0 0 0\n",
      "0 0 0 0 0 0 0 0 0 0 0 1 1 1 1 1 1 1 1 1 1 1 1 1 1 0 0 0 0 0 0 0 0 0 0 0 0 0 0 0 0 0 0 0 0 0 0 0 0 0 0 0 0 0 0 0 0 0\n",
      "0 0 0 0 0 0 0 0 0 1 1 1 1 1 1 1 1 1 1 1 1 1 1 1 0 0 0 0 0 0 0 0 0 0 0 0 0 0 0 0 0 0 0 0 0 0 0 0 0 0 0 0 0 0 0 0 0 0\n",
      "0 0 0 0 0 0 0 0 1 1 1 1 1 1 1 1 1 1 1 1 1 1 1 0 0 0 0 0 0 0 0 0 0 0 0 0 0 0 0 0 0 0 0 0 0 0 0 0 0 0 0 0 0 0 0 0 0 0\n",
      "0 0 0 0 0 0 0 1 1 1 1 1 1 1 1 1 1 1 1 1 1 1 0 0 0 0 0 0 0 0 0 0 0 0 0 0 0 0 0 0 0 0 0 0 0 0 0 0 0 0 0 0 0 0 0 0 0 0\n",
      "0 0 0 0 0 0 1 1 1 1 1 1 1 1 1 1 1 1 1 1 0 0 0 0 0 0 0 0 0 0 0 0 0 0 0 0 0 0 0 0 0 0 0 0 0 0 0 0 0 0 0 0 0 0 0 0 0 0\n",
      "0 0 0 0 0 1 1 1 1 1 1 1 1 1 1 1 1 1 1 0 0 0 0 0 0 0 0 0 0 0 0 0 0 0 0 0 0 0 0 0 0 0 0 0 0 0 0 0 0 0 0 0 0 0 0 0 0 0\n",
      "0 0 0 0 1 1 1 1 1 1 1 1 1 1 1 1 1 1 0 0 0 0 0 0 0 0 0 0 0 0 0 0 0 0 0 0 0 0 0 0 0 0 0 0 0 0 0 0 0 0 0 0 0 0 0 0 0 0\n",
      "0 0 0 0 1 1 1 1 1 1 1 1 1 1 1 1 1 0 0 0 0 0 0 0 0 0 0 0 0 0 0 0 0 0 0 0 0 0 0 0 0 0 0 0 0 0 0 0 0 0 0 0 0 0 0 0 0 0\n",
      "0 0 0 0 1 1 1 1 1 1 1 1 1 1 1 1 0 0 0 0 0 0 0 0 0 0 0 0 0 0 0 0 0 0 0 0 0 0 0 0 0 0 0 0 0 0 0 0 0 0 0 0 0 0 0 0 0 0\n",
      "0 0 0 0 1 1 1 1 1 1 1 1 1 1 1 0 0 0 0 0 0 0 0 0 0 0 0 0 0 0 0 0 0 0 0 0 0 0 0 0 0 0 0 0 0 0 0 0 0 0 0 0 0 0 0 0 0 0\n",
      "0 0 0 0 0 1 1 1 1 1 1 1 1 1 0 0 0 0 0 0 0 0 0 0 0 0 0 0 0 0 0 0 0 0 0 0 0 0 0 0 0 0 0 0 0 0 0 0 0 0 0 0 0 0 0 0 0 0\n",
      "0 0 0 0 0 1 1 1 1 1 1 1 1 0 0 0 0 0 0 0 0 0 0 0 0 0 0 0 0 0 0 0 0 0 0 0 0 0 0 0 0 0 0 0 0 0 0 0 0 0 0 0 0 0 0 0 0 0\n",
      "0 0 0 0 0 1 1 1 1 1 1 0 0 0 0 0 0 0 0 0 0 0 0 0 0 0 0 0 0 0 0 0 0 0 0 0 0 0 0 0 0 0 0 0 0 0 0 0 0 0 0 0 0 0 0 0 0 0\n",
      "0 0 0 0 0 1 1 1 1 1 0 0 0 0 0 0 0 0 0 0 0 0 0 0 0 0 0 0 0 0 0 0 0 0 0 0 0 0 0 0 0 0 0 0 0 0 0 0 0 S 0 0 0 0 0 0 0 0\n",
      "0 0 0 0 0 1 1 1 1 0 0 0 0 0 0 0 0 0 0 0 0 0 0 0 0 0 0 0 0 0 0 0 0 0 0 0 0 0 0 0 0 0 0 0 0 0 0 0 S S S 0 0 0 0 0 0 0\n",
      "0 0 0 0 0 1 1 1 0 0 0 0 0 0 0 0 0 0 0 0 0 0 0 0 0 0 0 0 0 0 0 0 0 0 0 0 0 0 0 0 0 0 0 0 0 0 0 0 S S S 0 0 0 0 0 0 0\n",
      "0 0 0 0 0 1 1 0 0 0 0 0 0 0 0 0 0 0 0 0 0 0 0 0 0 0 0 0 0 0 0 0 0 0 0 0 0 0 0 0 0 0 0 0 0 0 0 0 0 S S 0 0 0 0 0 0 0\n",
      "0 0 0 0 0 0 0 0 0 0 0 0 0 0 0 0 0 0 0 0 0 0 0 0 0 0 0 0 0 0 0 0 0 0 0 0 0 0 0 0 0 0 0 0 0 0 0 0 0 0 0 0 0 0 0 0 0 0\n",
      "0 0 0 0 0 0 0 0 0 0 0 0 0 0 0 0 0 0 0 0 0 0 0 0 0 0 0 0 0 0 0 0 0 0 0 0 0 0 0 0 0 0 0 0 0 0 0 0 0 0 0 0 0 0 0 0 0 0\n",
      "0 0 0 0 0 0 0 0 0 0 0 0 0 0 0 0 0 0 0 0 0 0 0 0 0 0 0 0 0 0 0 0 0 0 0 0 0 0 0 0 0 0 0 0 0 0 0 0 0 0 0 0 0 0 0 0 0 0\n",
      "0 0 0 0 0 0 0 0 0 0 0 0 0 0 0 0 0 0 0 0 0 0 0 0 0 0 0 0 0 0 0 0 0 0 0 0 0 0 0 0 0 0 0 0 0 0 0 0 0 0 0 0 0 0 0 0 0 0\n",
      "1 0 0 0 0 0 0 0 0 0 0 0 0 0 0 0 0 0 0 0 0 0 0 0 0 0 0 0 0 0 0 0 0 0 0 0 0 0 0 0 0 0 0 0 0 0 0 0 0 0 0 0 0 0 0 0 0 1\n"
     ]
    }
   ],
   "source": [
    "# Imagen de prueba\n",
    "ruta = \"img/Prueba Lab1.bmp\"\n",
    "ruta2 = \"img/Test.bmp\"\n",
    "ruta3 = \"img/Test2.bmp\"\n",
    "ruta4 = \"img/turing.bmp\"\n",
    "\n",
    "\n",
    "# Tamaño de pixel definido\n",
    "tamano_celda = 10  \n",
    "\n",
    "# Convertir la imagen en una matriz de celdas\n",
    "matriz_laberinto = discretizar_imagen(ruta, tamano_celda)\n",
    "matriz_laberinto2 = discretizar_imagen(ruta2, tamano_celda)\n",
    "matriz_laberinto3 = discretizar_imagen(ruta3, tamano_celda)\n",
    "matriz_laberinto4 = discretizar_imagen(ruta4, tamano_celda)\n",
    "\n",
    "# Mostrar la matriz discretizada\n",
    "print(\"\\nMatriz del laberinto:\")\n",
    "for fila in matriz_laberinto:\n",
    "    print(\" \".join(fila))"
   ]
  },
  {
   "cell_type": "code",
   "execution_count": 86,
   "metadata": {},
   "outputs": [],
   "source": [
    "class MazeProblem(Problem):\n",
    "    def __init__(self, maze_matrix):\n",
    "        self.maze = maze_matrix\n",
    "        self.initial_state = self.find_start()\n",
    "        self.goal_states = self.find_goals()\n",
    "        super().__init__(self.initial_state)\n",
    "\n",
    "    def find_start(self):\n",
    "        for y, row in enumerate(self.maze):\n",
    "            for x, value in enumerate(row):\n",
    "                if value == 'S':\n",
    "                    return (y, x)\n",
    "        return None\n",
    "\n",
    "    def find_goals(self):\n",
    "        goals = []\n",
    "        for y, row in enumerate(self.maze):\n",
    "            for x, value in enumerate(row):\n",
    "                if value == 'G':\n",
    "                    goals.append((y, x))\n",
    "        return goals\n",
    "\n",
    "    def actions(self, state):\n",
    "        y, x = state\n",
    "        actions = []\n",
    "\n",
    "        if y > 0 and self.maze[y - 1, x] != '1':\n",
    "            actions.append(\"UP\")\n",
    "        if y < self.maze.shape[0] - 1 and self.maze[y + 1, x] != '1':\n",
    "            actions.append(\"DOWN\")\n",
    "        if x > 0 and self.maze[y, x - 1] != '1':\n",
    "            actions.append(\"LEFT\")\n",
    "        if x < self.maze.shape[1] - 1 and self.maze[y, x + 1] != '1':\n",
    "            actions.append(\"RIGHT\")\n",
    "\n",
    "        return actions\n",
    "\n",
    "    def result(self, state, action):\n",
    "        y, x = state\n",
    "        if action == \"UP\":\n",
    "            return (y - 1, x)\n",
    "        elif action == \"DOWN\":\n",
    "            return (y + 1, x)\n",
    "        elif action == \"LEFT\":\n",
    "            return (y, x - 1)\n",
    "        elif action == \"RIGHT\":\n",
    "            return (y, x + 1)\n",
    "        return state\n",
    "\n",
    "    def goal_test(self, state):\n",
    "        return state in self.goal_states\n",
    "\n",
    "    def step_cost(self, state, action, new_state):\n",
    "        # Costo uniforme\n",
    "        return 1 \n",
    "    \n",
    "    def manthattan_distance(self, state):\n",
    "        y, x = state\n",
    "        return min(abs(y - gy) + abs(x - gx) for gy, gx in self.goal_states)\n",
    "\n",
    "    def euclidean_distance(self, state):\n",
    "        y, x = state\n",
    "        return min(((y - gy) ** 2 + (x - gx) ** 2) ** 0.5 for gy, gx in self.goal_states)\n"
   ]
  },
  {
   "cell_type": "code",
   "execution_count": 87,
   "metadata": {},
   "outputs": [
    {
     "name": "stdout",
     "output_type": "stream",
     "text": [
      "Estado inicial: (49, 49)\n",
      "Estados objetivo: [(5, 4), (5, 5), (5, 6), (6, 4), (6, 5), (6, 6), (7, 4), (7, 5), (7, 6)]\n",
      "Acciones posibles desde el estado inicial: ['UP', 'DOWN', 'LEFT', 'RIGHT']\n"
     ]
    }
   ],
   "source": [
    "problema = MazeProblem(matriz_laberinto)\n",
    "\n",
    "print(\"Estado inicial:\", problema.initial_state)\n",
    "print(\"Estados objetivo:\", problema.goal_states)\n",
    "print(\"Acciones posibles desde el estado inicial:\", problema.actions(problema.initial_state))"
   ]
  },
  {
   "cell_type": "markdown",
   "metadata": {},
   "source": [
    "-----------"
   ]
  },
  {
   "cell_type": "markdown",
   "metadata": {},
   "source": [
    "# 1.3 Graph search \n",
    "Construir un algorimo generico familia= de graphSearch. Este recibirá de parámetro una instancia del framework de problemas. Sobre esta familia genérica, implemente los siguientes algoritmos: \n",
    "\n",
    "● Breadth First Search (BFS) \n",
    "\n",
    "● Depth First Search (DFS) \n",
    "\n",
    "● A*: escoja dos heurísticas distintas, y justifique su selección. "
   ]
  },
  {
   "cell_type": "code",
   "execution_count": 88,
   "metadata": {},
   "outputs": [],
   "source": [
    "\n",
    "\n",
    "from collections import deque\n",
    "# busqueda en amplitud\n",
    "class BreadthFirstSearch:\n",
    "    def __init__(self, problem):\n",
    "        self.problem = problem\n",
    "        #fontrera con el estawdo inicial\n",
    "        self.frontier = deque([problem.initial_state])\n",
    "        self.explored = set() #conjunto de esatos explorados\n",
    "        self.path = {problem.initial_state: None} #diccionario para reconstruir el camino\n",
    "        self.solution = None\n",
    "\n",
    "    #buscar el estado objetivo\n",
    "    def search(self):\n",
    "        while self.frontier:\n",
    "            state = self.frontier.popleft()\n",
    "\n",
    "            if self.problem.goal_test(state):\n",
    "                return self.reconstruct_path(state)\n",
    "            \n",
    "            self.explored.add(state)\n",
    "\n",
    "            for action in self.problem.actions(state):\n",
    "                child = self.problem.result(state, action)\n",
    "                if child not in self.explored and child not in self.frontier:\n",
    "                    self.frontier.append(child)\n",
    "                    self.path[child] = (state, action)\n",
    "\n",
    "        return None\n",
    "\n",
    "\n",
    "    #reconstruir el camino\n",
    "    def reconstruct_path(self, state):\n",
    "        actions = []\n",
    "        while self.path[state]:\n",
    "            state, action = self.path[state]\n",
    "            actions.append(action)\n",
    "        actions.reverse()\n",
    "        return actions"
   ]
  },
  {
   "cell_type": "code",
   "execution_count": 89,
   "metadata": {},
   "outputs": [
    {
     "name": "stdout",
     "output_type": "stream",
     "text": [
      "Camino encontrado con BFS:  ['UP', 'UP', 'UP', 'UP', 'UP', 'UP', 'UP', 'UP', 'UP', 'LEFT', 'LEFT', 'LEFT', 'LEFT', 'LEFT', 'LEFT', 'LEFT', 'LEFT', 'LEFT', 'LEFT', 'UP', 'LEFT', 'UP', 'UP', 'UP', 'UP', 'LEFT', 'LEFT', 'LEFT', 'LEFT', 'UP', 'LEFT', 'UP', 'LEFT', 'LEFT', 'UP', 'LEFT', 'LEFT', 'UP', 'LEFT', 'UP', 'LEFT', 'UP', 'UP', 'UP', 'UP', 'LEFT', 'LEFT', 'LEFT', 'LEFT', 'LEFT', 'LEFT', 'LEFT', 'LEFT', 'LEFT', 'LEFT', 'LEFT', 'LEFT', 'LEFT', 'LEFT', 'LEFT']\n"
     ]
    }
   ],
   "source": [
    "problema2 = MazeProblem(matriz_laberinto2)\n",
    "\n",
    "bfs = BreadthFirstSearch(problema2)\n",
    "acciones2 = bfs.search()\n",
    "\n",
    "print(\"Camino encontrado con BFS: \", acciones2)\n"
   ]
  },
  {
   "cell_type": "code",
   "execution_count": 90,
   "metadata": {},
   "outputs": [],
   "source": [
    "\n",
    "\n",
    "# busqueda en profundidad\n",
    "#este funciona con pilas\n",
    "class DepthFirstSearch:\n",
    "    def __init__(self, problem):\n",
    "        self.problem = problem\n",
    "        self.frontier = [problem.initial_state]\n",
    "        self.explored = set()\n",
    "        self.path = {problem.initial_state: None}\n",
    "        self.solution = None\n",
    "\n",
    "    #buscar el estado objetivo\n",
    "    def search(self):\n",
    "        while self.frontier:\n",
    "            state = self.frontier.pop()\n",
    "\n",
    "            if self.problem.goal_test(state):\n",
    "                return self.reconstruct_path(state)\n",
    "            \n",
    "            self.explored.add(state)\n",
    "\n",
    "            for action in self.problem.actions(state):\n",
    "                child = self.problem.result(state, action)\n",
    "                if child not in self.explored and child not in self.frontier:\n",
    "                    self.frontier.append(child)\n",
    "                    self.path[child] = (state, action)\n",
    "\n",
    "        return None\n",
    "    \n",
    "    #reconstruir el camino\n",
    "    def reconstruct_path(self, state):\n",
    "        actions = []\n",
    "        while self.path[state] is not None:\n",
    "            state, action = self.path[state]\n",
    "            actions.append(action)\n",
    "        actions.reverse()\n",
    "        return actions\n",
    "    "
   ]
  },
  {
   "cell_type": "code",
   "execution_count": 91,
   "metadata": {},
   "outputs": [
    {
     "name": "stdout",
     "output_type": "stream",
     "text": [
      "Camino encontrado con DFS:  ['RIGHT', 'RIGHT', 'RIGHT', 'RIGHT', 'RIGHT', 'RIGHT', 'DOWN', 'DOWN', 'LEFT', 'LEFT', 'LEFT', 'LEFT', 'LEFT', 'LEFT', 'LEFT', 'LEFT', 'LEFT', 'LEFT', 'LEFT', 'LEFT', 'LEFT', 'LEFT', 'LEFT', 'LEFT', 'LEFT', 'LEFT', 'LEFT', 'LEFT', 'DOWN', 'LEFT', 'LEFT', 'DOWN', 'LEFT', 'DOWN', 'LEFT', 'DOWN', 'LEFT', 'LEFT', 'DOWN', 'LEFT', 'DOWN', 'LEFT', 'DOWN', 'LEFT', 'LEFT', 'LEFT', 'LEFT', 'LEFT', 'LEFT', 'LEFT', 'UP', 'UP', 'RIGHT', 'RIGHT', 'RIGHT', 'RIGHT', 'UP', 'UP', 'LEFT', 'LEFT', 'LEFT', 'LEFT', 'UP', 'UP', 'RIGHT', 'RIGHT', 'RIGHT', 'UP', 'UP', 'LEFT', 'LEFT', 'LEFT', 'LEFT', 'LEFT', 'UP', 'LEFT', 'UP', 'LEFT', 'UP', 'LEFT', 'LEFT', 'LEFT', 'LEFT', 'LEFT', 'LEFT', 'LEFT', 'LEFT', 'LEFT', 'UP', 'UP', 'RIGHT', 'RIGHT']\n"
     ]
    }
   ],
   "source": [
    "problema3 = MazeProblem(matriz_laberinto3)\n",
    "\n",
    "dfs = DepthFirstSearch(problema3)\n",
    "\n",
    "acciones3 = dfs.search()\n",
    "\n",
    "print(\"Camino encontrado con DFS: \", acciones3)\n"
   ]
  },
  {
   "cell_type": "markdown",
   "metadata": {},
   "source": [
    "A* Heuristica: Manhattan Distance\n",
    "se escogio, debido a que en el link (https://www.geeksforgeeks.org/a-search-algorithm/) proporcionado en los modulos de la clase , se explica de manera clara y sencilla la implementacion de este algoritmo, entonces se escogio este porque se miraba mas facil de implementar y entender."
   ]
  },
  {
   "cell_type": "code",
   "execution_count": 92,
   "metadata": {},
   "outputs": [
    {
     "name": "stdout",
     "output_type": "stream",
     "text": [
      "distancias de manhattan:  [44, 45, 46, 47, 48, 49, 50, 51, 50, 49, 48, 47, 46, 45, 44, 43, 42, 41, 40, 39, 38, 37, 36, 35, 34, 33, 32, 31, 32, 31, 30, 31, 30, 31, 30, 31, 30, 29, 30, 29, 30, 29, 30, 29, 28, 27, 26, 25, 24, 23, 22, 21, 22, 23, 24, 25, 24, 23, 22, 21, 20, 19, 18, 17, 18, 19, 20, 19, 18, 17, 16, 15, 14, 13, 12, 11, 10, 9, 8, 7, 6, 5, 4, 3, 2, 2, 3, 4, 3, 2, 1, 0]\n"
     ]
    }
   ],
   "source": [
    "# 1. A* Heuristica: Manhattan Distance \n",
    "\n",
    "#esta en la clase de MazeProblem el metodo\n",
    "\n",
    "acciones = dfs.search()\n",
    "estado_actual = problema3.initial_state\n",
    "\n",
    "heuristicas =[]\n",
    "\n",
    "for accion in acciones:\n",
    "\testado_actual = problema3.result(estado_actual, accion)\n",
    "\t# print(estado_actual)\n",
    "\theuristica = problema3.manthattan_distance(estado_actual)\n",
    "\theuristicas.append(heuristica)\n",
    "print(\"distancias de manhattan: \", heuristicas)\n",
    "\n"
   ]
  },
  {
   "cell_type": "markdown",
   "metadata": {},
   "source": [
    "A* Heuristica Euclidean Distance, se escogio por la misma razon que la de Manthattan Distance."
   ]
  },
  {
   "cell_type": "code",
   "execution_count": 93,
   "metadata": {},
   "outputs": [
    {
     "name": "stdout",
     "output_type": "stream",
     "text": [
      "distancias de euclidean:  [38.58756276314948, 39.11521443121589, 39.66106403010388, 40.22437072223753, 40.80441152620633, 41.400483088968905, 42.20189569201838, 43.01162633521314, 42.43819034784589, 41.88078318274385, 41.340053217188775, 40.8166632639171, 40.311288741492746, 39.45883931389772, 38.47076812334269, 37.48332962798263, 36.49657518178932, 35.510561809129406, 34.52535300326414, 33.54101966249684, 32.55764119219941, 31.575306807693888, 30.59411708155671, 29.614185789921695, 28.635642126552707, 27.65863337187866, 26.68332812825267, 25.709920264364882, 25.96150997149434, 25.0, 24.041630560342615, 24.351591323771842, 23.40939982143925, 23.769728648009426, 22.847319317591726, 23.259406699226016, 22.360679774997898, 21.470910553583888, 21.95449840010015, 21.095023109728988, 21.633307652783937, 20.808652046684813, 21.400934559032695, 20.615528128088304, 19.849433241279208, 19.1049731745428, 18.384776310850235, 17.69180601295413, 17.029386365926403, 16.401219466856727, 15.620499351813308, 14.866068747318506, 15.556349186104045, 16.278820596099706, 17.029386365926403, 17.804493814764857, 17.204650534085253, 16.64331697709324, 15.811388300841896, 15.0, 14.212670403551895, 13.45362404707371, 12.806248474865697, 12.206555615733702, 13.038404810405298, 13.892443989449804, 14.7648230602334, 14.317821063276353, 13.92838827718412, 13.0, 12.083045973594572, 11.180339887498949, 10.295630140987, 9.433981132056603, 8.94427190999916, 8.06225774829855, 7.615773105863909, 6.708203932499369, 6.324555320336759, 5.385164807134504, 4.47213595499958, 3.605551275463989, 2.8284271247461903, 2.23606797749979, 2.0, 2.0, 2.23606797749979, 2.8284271247461903, 2.23606797749979, 1.4142135623730951, 1.0, 0.0]\n"
     ]
    }
   ],
   "source": [
    "#este tambien esta implementado en la clase de maze problem\n",
    "acciones = dfs.search()\n",
    "estado_actual = problema3.initial_state\n",
    "\n",
    "heuristicas =[]\n",
    "\n",
    "for accion in acciones:\n",
    "\testado_actual = problema3.result(estado_actual, accion)\n",
    "\t# print(estado_actual)\n",
    "\theuristica = problema3.euclidean_distance(estado_actual)\n",
    "\theuristicas.append(heuristica)\n",
    "print(\"distancias de euclidean: \", heuristicas)\n"
   ]
  },
  {
   "cell_type": "code",
   "execution_count": 94,
   "metadata": {},
   "outputs": [
    {
     "data": {
      "image/png": "[encoded data removed]",
      "text/plain": [
       "<Figure size 800x800 with 1 Axes>"
      ]
     },
     "metadata": {},
     "output_type": "display_data"
    },
    {
     "data": {
      "image/png": "[encoded data removed]",
      "text/plain": [
       "<Figure size 800x800 with 1 Axes>"
      ]
     },
     "metadata": {},
     "output_type": "display_data"
    }
   ],
   "source": [
    "import matplotlib.pyplot as plt\n",
    "import numpy as np\n",
    "\n",
    "def visualize(maze, endPoints, startPoint, solution=None):\n",
    "    height, width = maze.shape\n",
    "    color_labyrinth = np.zeros((height, width, 3), dtype=np.uint8)\n",
    "    \n",
    "    # Asigna colores básicos\n",
    "    color_labyrinth[maze == \"0\"] = [255, 255, 255]  # Blanco para los espacios transitables\n",
    "    color_labyrinth[maze == \"1\"] = [0, 0, 0]        # Negro para las paredes\n",
    "    \n",
    "    # Posición inicial\n",
    "    current_position = list(startPoint)\n",
    "    color_labyrinth[current_position[0], current_position[1]] = [255, 0, 0]  # Rojo\n",
    "    \n",
    "    # Dibujar la solución en azul\n",
    "    if solution:\n",
    "        for move in solution:\n",
    "            if move == 'RIGHT':\n",
    "                current_position[1] += 1\n",
    "            elif move == 'LEFT':\n",
    "                current_position[1] -= 1\n",
    "            elif move == 'UP':\n",
    "                current_position[0] -= 1\n",
    "            elif move == 'DOWN':\n",
    "                current_position[0] += 1\n",
    "            \n",
    "            # Marcar el camino en azul\n",
    "            color_labyrinth[current_position[0], current_position[1]] = [0, 0, 255]\n",
    "\n",
    "    # Marcar los puntos finales en verde\n",
    "    for goal in endPoints:\n",
    "        color_labyrinth[goal[0], goal[1]] = [0, 255, 0]\n",
    "    \n",
    "    # Graficar\n",
    "    plt.figure(figsize=(8, 8))\n",
    "    plt.imshow(color_labyrinth, interpolation='nearest')\n",
    "    plt.title(\"Laberinto con Solución\")\n",
    "    plt.axis('off')\n",
    "    plt.show()\n",
    "\n",
    "visualize(problema2.maze, problema2.goal_states, problema2.initial_state, acciones2)\n",
    "visualize(problema3.maze, problema3.goal_states, problema3.initial_state, acciones3)"
   ]
  },
  {
   "cell_type": "code",
   "execution_count": null,
   "metadata": {},
   "outputs": [],
   "source": []
  },
  {
   "cell_type": "code",
   "execution_count": null,
   "metadata": {},
   "outputs": [],
   "source": []
  }
 ],
 "metadata": {
  "kernelspec": {
   "display_name": "venv",
   "language": "python",
   "name": "python3"
  },
  "language_info": {
   "codemirror_mode": {
    "name": "ipython",
    "version": 3
   },
   "file_extension": ".py",
   "mimetype": "text/x-python",
   "name": "python",
   "nbconvert_exporter": "python",
   "pygments_lexer": "ipython3",
   "version": "3.12.9"
  }
 },
 "nbformat": 4,
 "nbformat_minor": 2
}
