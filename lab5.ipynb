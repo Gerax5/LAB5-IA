{
 "cells": [
  {
   "cell_type": "markdown",
   "metadata": {},
   "source": [
    "# 1"
   ]
  },
  {
   "cell_type": "markdown",
   "metadata": {},
   "source": [
    "## Implementación de librerias"
   ]
  },
  {
   "cell_type": "code",
   "execution_count": 118,
   "metadata": {},
   "outputs": [],
   "source": [
    "import numpy as np\n",
    "from PIL import Image\n",
    "from Problem import Problem"
   ]
  },
  {
   "cell_type": "markdown",
   "metadata": {},
   "source": [
    "# 1.1"
   ]
  },
  {
   "cell_type": "markdown",
   "metadata": {},
   "source": [
    "## Funciones de descretizacion"
   ]
  },
  {
   "cell_type": "code",
   "execution_count": 119,
   "metadata": {},
   "outputs": [],
   "source": [
    "import numpy as np\n",
    "from PIL import Image\n",
    "\n",
    "def colorSimilar(color, referencia, tolerancia=20):\n",
    "    return all(abs(int(c1) - int(c2)) <= tolerancia for c1, c2 in zip(color, referencia))\n",
    "\n",
    "\n",
    "# Función para clasificar una celda según el color predominante\n",
    "def clasificarCelda(pixeles):\n",
    "    conteo = {\"0\": 0, \"1\": 0, \"S\": 0, \"G\": 0}\n",
    "\n",
    "    BLANCO = (255, 255, 255)\n",
    "    NEGRO = (0, 0, 0)\n",
    "    ROJO = (255, 0, 0)\n",
    "    VERDE = (0, 255, 0)\n",
    "\n",
    "    for fila in pixeles:\n",
    "        for r, g, b in fila:\n",
    "            if colorSimilar((r, g, b), BLANCO):\n",
    "                conteo[\"0\"] += 1\n",
    "            elif colorSimilar((r, g, b), NEGRO):\n",
    "                conteo[\"1\"] += 1\n",
    "            elif colorSimilar((r, g, b), ROJO):\n",
    "                conteo[\"S\"] += 1\n",
    "            elif colorSimilar((r, g, b), VERDE):\n",
    "                conteo[\"G\"] += 1\n",
    "\n",
    "    return max(conteo, key=conteo.get)\n",
    "\n",
    "def discretizar_imagen(ruta_imagen, tamano_celda):\n",
    "    imagen = Image.open(ruta_imagen).convert(\"RGB\")\n",
    "    pixeles = np.array(imagen)\n",
    "    alto, ancho, _ = pixeles.shape\n",
    "\n",
    "    filas = alto // tamano_celda\n",
    "    columnas = ancho // tamano_celda\n",
    "\n",
    "    laberinto = np.zeros((filas, columnas), dtype=str)\n",
    "\n",
    "    for y in range(filas):\n",
    "        for x in range(columnas):\n",
    "            celda_pixeles = pixeles[y * tamano_celda:(y + 1) * tamano_celda, \n",
    "                                    x * tamano_celda:(x + 1) * tamano_celda]\n",
    "\n",
    "            laberinto[y, x] = clasificarCelda(celda_pixeles)\n",
    "\n",
    "    return laberinto\n"
   ]
  },
  {
   "cell_type": "markdown",
   "metadata": {},
   "source": [
    "## Aplicacion"
   ]
  },
  {
   "cell_type": "code",
   "execution_count": 120,
   "metadata": {},
   "outputs": [
    {
     "name": "stdout",
     "output_type": "stream",
     "text": [
      "\n",
      "Matriz del laberinto:\n",
      "1 1 1 1 1 1 1 1 1 1 1 1 1 1 1 1 1 1 1 1 1 1 1 1 1 1 1 1 1 1 1 1 1 1 1 1 1 1 1 1 1 1 1 1 1 1 1 1 1 1 1 1 1 1 1 1 1 1\n",
      "0 0 0 0 0 0 0 0 0 0 0 0 0 0 0 0 0 0 0 0 0 0 0 0 0 0 0 0 0 0 0 0 0 0 0 0 0 0 0 0 0 0 0 0 0 0 0 0 0 0 0 0 0 0 0 0 0 0\n",
      "0 0 0 0 0 0 0 0 0 0 0 0 0 0 0 0 0 0 0 0 0 0 0 0 0 0 0 0 0 0 0 0 0 0 0 0 0 0 0 0 0 0 0 0 0 0 0 0 0 0 0 0 0 0 0 0 0 0\n",
      "0 0 0 0 0 0 0 0 0 0 0 0 0 0 0 0 0 0 0 0 0 0 0 0 0 0 0 0 0 0 0 0 0 0 0 0 0 0 0 0 0 0 0 0 0 0 0 0 0 0 0 0 0 0 0 0 0 0\n",
      "0 0 0 0 0 0 0 0 0 0 0 0 0 0 0 0 0 0 0 0 0 0 0 0 0 0 0 0 0 0 0 0 0 0 0 0 0 0 0 0 0 0 0 0 0 0 0 0 0 0 0 0 0 0 0 0 0 0\n",
      "0 0 0 0 G G G 0 0 0 0 0 0 0 0 0 0 0 0 0 0 0 0 0 0 0 0 0 0 0 0 0 0 0 0 0 0 0 0 0 0 0 0 0 0 0 0 0 0 0 0 0 0 0 0 0 0 0\n",
      "0 0 0 0 G G G 0 0 0 0 0 0 0 0 0 0 0 0 0 0 0 0 0 0 0 0 0 0 0 0 0 0 0 0 0 0 0 0 0 0 0 0 0 1 1 0 0 0 0 0 0 0 0 0 0 0 0\n",
      "0 0 0 0 G G G 0 0 0 0 0 0 0 0 0 0 0 0 0 0 0 0 0 0 0 0 0 0 0 0 0 0 0 0 0 0 0 0 0 0 0 0 1 1 1 1 1 0 0 0 0 0 0 0 0 0 0\n",
      "0 0 0 0 0 0 0 0 0 0 0 0 0 0 0 0 0 0 0 0 0 0 0 0 0 0 0 0 0 0 0 0 0 0 0 0 0 0 0 0 0 0 1 1 1 1 1 1 1 1 0 0 0 0 0 0 0 0\n",
      "0 0 0 0 0 0 0 0 0 0 0 0 0 0 0 0 0 0 0 0 0 0 0 0 0 0 0 0 0 0 0 0 0 0 0 0 0 0 0 0 1 1 1 1 1 1 1 1 1 1 1 1 0 0 0 0 0 0\n",
      "0 0 0 0 0 0 0 0 0 0 0 0 0 0 0 0 0 0 0 0 0 0 0 0 0 0 0 0 0 0 0 0 0 0 0 0 0 0 0 1 1 1 1 1 1 1 1 1 1 1 1 1 1 0 0 0 0 0\n",
      "0 0 0 0 0 0 0 0 0 0 0 0 0 0 0 0 0 0 0 0 0 0 0 0 0 0 0 0 0 0 0 0 0 0 0 0 0 0 1 1 1 1 1 1 1 1 1 1 1 1 1 1 1 0 0 0 0 0\n",
      "0 0 0 0 0 0 0 0 0 0 0 0 0 0 0 0 0 0 0 0 0 0 0 0 0 0 0 0 0 0 0 0 0 0 0 0 0 1 1 1 1 1 1 1 1 1 1 1 1 1 1 1 0 0 0 0 0 0\n",
      "0 0 0 0 0 0 0 0 0 0 0 0 0 0 0 0 0 0 0 0 0 0 0 0 0 0 0 0 0 0 0 0 0 0 0 0 1 1 1 1 1 1 1 1 1 1 1 1 1 1 1 0 0 0 0 0 0 0\n",
      "0 0 0 0 0 0 0 0 0 0 0 0 0 0 0 0 0 0 0 0 0 0 0 0 0 0 0 0 0 0 0 0 0 0 0 1 1 1 1 1 1 1 1 1 1 1 1 1 1 1 0 0 0 0 0 0 0 0\n",
      "0 0 0 0 0 0 0 0 0 0 0 0 0 0 0 0 0 0 0 0 0 0 0 0 0 0 0 0 0 0 0 0 0 0 1 1 1 1 1 1 1 1 1 1 1 1 1 1 1 0 0 0 0 0 0 0 0 0\n",
      "0 0 0 0 0 0 0 0 0 0 0 0 0 0 0 0 0 0 0 0 0 0 0 0 0 0 0 0 0 0 0 0 0 1 1 1 1 1 1 1 1 1 1 1 1 1 1 1 0 0 0 0 0 0 0 0 0 0\n",
      "0 0 0 0 0 0 0 0 0 0 0 0 0 0 0 0 0 0 0 0 0 0 0 0 0 0 0 0 0 0 0 0 1 1 1 1 1 1 1 1 1 1 1 1 1 1 0 0 0 0 0 0 0 0 0 0 0 0\n",
      "0 0 0 0 0 0 0 0 0 0 0 0 0 0 0 0 0 0 0 0 0 0 0 0 0 0 0 0 0 0 0 1 1 1 1 1 1 1 1 1 1 1 1 1 1 0 0 0 0 0 0 0 0 0 0 0 0 0\n",
      "0 0 0 0 0 0 0 0 0 0 0 0 0 0 0 0 0 0 0 0 0 0 0 0 0 0 0 0 0 1 1 1 1 1 1 1 1 1 1 1 1 1 1 1 0 0 0 0 0 0 0 0 0 0 0 0 0 0\n",
      "0 0 0 0 0 0 0 0 0 0 0 0 0 0 0 0 0 0 0 0 0 0 0 0 0 0 0 0 1 1 1 1 1 1 1 1 1 1 1 1 1 1 1 0 0 0 0 0 0 0 0 0 0 0 0 0 0 0\n",
      "0 0 0 0 0 0 0 0 0 0 0 0 0 0 0 0 0 0 0 0 0 0 0 0 0 0 0 1 1 1 1 1 1 1 1 1 1 1 1 1 1 1 0 0 0 0 0 0 0 0 0 0 0 0 0 0 0 0\n",
      "0 0 0 0 0 0 0 0 0 0 0 0 0 0 0 0 0 0 0 0 0 0 0 0 0 0 1 1 1 1 1 1 1 1 1 1 1 1 1 1 1 0 0 0 0 0 0 0 0 0 0 0 0 0 0 0 0 0\n",
      "0 0 0 0 0 0 0 0 0 0 0 0 0 0 0 0 0 0 0 0 0 0 0 0 0 1 1 1 1 1 1 1 1 1 1 1 1 1 1 1 0 0 0 0 0 0 0 0 0 0 0 0 0 0 0 0 0 0\n",
      "0 0 0 0 0 0 0 0 0 0 0 0 0 0 0 0 0 0 0 0 0 0 0 0 1 1 1 1 1 1 1 1 1 1 1 1 1 1 1 0 0 0 0 0 0 0 0 0 0 0 0 0 0 0 0 0 0 0\n",
      "0 0 0 0 0 0 0 0 0 0 0 0 0 0 0 0 0 0 0 0 0 0 0 1 1 1 1 1 1 1 1 1 1 1 1 1 1 0 0 0 0 0 0 0 0 0 0 0 0 0 0 0 0 0 0 0 0 0\n",
      "0 0 0 0 0 0 0 0 0 0 0 0 0 0 0 0 0 0 0 0 0 0 1 1 1 1 1 1 1 1 1 1 1 1 1 1 0 0 0 0 0 0 0 0 0 0 0 0 0 0 0 0 0 0 0 0 0 0\n",
      "0 0 0 0 0 0 0 0 0 0 0 0 0 0 0 0 0 0 0 0 0 1 1 1 1 1 1 1 1 1 1 1 1 1 1 0 0 0 0 0 0 0 0 0 0 0 0 0 0 0 0 0 0 0 0 0 0 0\n",
      "0 0 0 0 0 0 0 0 0 0 0 0 0 0 0 0 0 0 0 1 1 1 1 1 1 1 1 1 1 1 1 1 1 1 0 0 0 0 0 0 0 0 0 0 0 0 0 0 0 0 0 0 0 0 0 0 0 0\n",
      "0 0 0 0 0 0 0 0 0 0 0 0 0 0 0 0 0 0 1 1 1 1 1 1 1 1 1 1 1 1 1 1 1 0 0 0 0 0 0 0 0 0 0 0 0 0 0 0 0 0 0 0 0 0 0 0 0 0\n",
      "0 0 0 0 0 0 0 0 0 0 0 0 0 0 0 0 0 1 1 1 1 1 1 1 1 1 1 1 1 1 1 1 0 0 0 0 0 0 0 0 0 0 0 0 0 0 0 0 0 0 0 0 0 0 0 0 0 0\n",
      "0 0 0 0 0 0 0 0 0 0 0 0 0 0 0 0 1 1 1 1 1 1 1 1 1 1 1 1 1 1 1 0 0 0 0 0 0 0 0 0 0 0 0 0 0 0 0 0 0 0 0 0 0 0 0 0 0 0\n",
      "0 0 0 0 0 0 0 0 0 0 0 0 0 0 0 1 1 1 1 1 1 1 1 1 1 1 1 1 1 0 0 0 0 0 0 0 0 0 0 0 0 0 0 0 0 0 0 0 0 0 0 0 0 0 0 0 0 0\n",
      "0 0 0 0 0 0 0 0 0 0 0 0 0 0 1 1 1 1 1 1 1 1 1 1 1 1 1 1 0 0 0 0 0 0 0 0 0 0 0 0 0 0 0 0 0 0 0 0 0 0 0 0 0 0 0 0 0 0\n",
      "0 0 0 0 0 0 0 0 0 0 0 0 0 1 1 1 1 1 1 1 1 1 1 1 1 1 1 0 0 0 0 0 0 0 0 0 0 0 0 0 0 0 0 0 0 0 0 0 0 0 0 0 0 0 0 0 0 0\n",
      "0 0 0 0 0 0 0 0 0 0 0 0 1 1 1 1 1 1 1 1 1 1 1 1 1 1 0 0 0 0 0 0 0 0 0 0 0 0 0 0 0 0 0 0 0 0 0 0 0 0 0 0 0 0 0 0 0 0\n",
      "0 0 0 0 0 0 0 0 0 0 0 1 1 1 1 1 1 1 1 1 1 1 1 1 1 0 0 0 0 0 0 0 0 0 0 0 0 0 0 0 0 0 0 0 0 0 0 0 0 0 0 0 0 0 0 0 0 0\n",
      "0 0 0 0 0 0 0 0 0 1 1 1 1 1 1 1 1 1 1 1 1 1 1 1 0 0 0 0 0 0 0 0 0 0 0 0 0 0 0 0 0 0 0 0 0 0 0 0 0 0 0 0 0 0 0 0 0 0\n",
      "0 0 0 0 0 0 0 0 1 1 1 1 1 1 1 1 1 1 1 1 1 1 1 0 0 0 0 0 0 0 0 0 0 0 0 0 0 0 0 0 0 0 0 0 0 0 0 0 0 0 0 0 0 0 0 0 0 0\n",
      "0 0 0 0 0 0 0 1 1 1 1 1 1 1 1 1 1 1 1 1 1 1 0 0 0 0 0 0 0 0 0 0 0 0 0 0 0 0 0 0 0 0 0 0 0 0 0 0 0 0 0 0 0 0 0 0 0 0\n",
      "0 0 0 0 0 0 1 1 1 1 1 1 1 1 1 1 1 1 1 1 0 0 0 0 0 0 0 0 0 0 0 0 0 0 0 0 0 0 0 0 0 0 0 0 0 0 0 0 0 0 0 0 0 0 0 0 0 0\n",
      "0 0 0 0 0 1 1 1 1 1 1 1 1 1 1 1 1 1 1 0 0 0 0 0 0 0 0 0 0 0 0 0 0 0 0 0 0 0 0 0 0 0 0 0 0 0 0 0 0 0 0 0 0 0 0 0 0 0\n",
      "0 0 0 0 1 1 1 1 1 1 1 1 1 1 1 1 1 1 0 0 0 0 0 0 0 0 0 0 0 0 0 0 0 0 0 0 0 0 0 0 0 0 0 0 0 0 0 0 0 0 0 0 0 0 0 0 0 0\n",
      "0 0 0 0 1 1 1 1 1 1 1 1 1 1 1 1 1 0 0 0 0 0 0 0 0 0 0 0 0 0 0 0 0 0 0 0 0 0 0 0 0 0 0 0 0 0 0 0 0 0 0 0 0 0 0 0 0 0\n",
      "0 0 0 0 1 1 1 1 1 1 1 1 1 1 1 1 0 0 0 0 0 0 0 0 0 0 0 0 0 0 0 0 0 0 0 0 0 0 0 0 0 0 0 0 0 0 0 0 0 0 0 0 0 0 0 0 0 0\n",
      "0 0 0 0 1 1 1 1 1 1 1 1 1 1 1 0 0 0 0 0 0 0 0 0 0 0 0 0 0 0 0 0 0 0 0 0 0 0 0 0 0 0 0 0 0 0 0 0 0 0 0 0 0 0 0 0 0 0\n",
      "0 0 0 0 0 1 1 1 1 1 1 1 1 1 0 0 0 0 0 0 0 0 0 0 0 0 0 0 0 0 0 0 0 0 0 0 0 0 0 0 0 0 0 0 0 0 0 0 0 0 0 0 0 0 0 0 0 0\n",
      "0 0 0 0 0 1 1 1 1 1 1 1 1 0 0 0 0 0 0 0 0 0 0 0 0 0 0 0 0 0 0 0 0 0 0 0 0 0 0 0 0 0 0 0 0 0 0 0 0 0 0 0 0 0 0 0 0 0\n",
      "0 0 0 0 0 1 1 1 1 1 1 0 0 0 0 0 0 0 0 0 0 0 0 0 0 0 0 0 0 0 0 0 0 0 0 0 0 0 0 0 0 0 0 0 0 0 0 0 0 0 0 0 0 0 0 0 0 0\n",
      "0 0 0 0 0 1 1 1 1 1 0 0 0 0 0 0 0 0 0 0 0 0 0 0 0 0 0 0 0 0 0 0 0 0 0 0 0 0 0 0 0 0 0 0 0 0 0 0 0 S 0 0 0 0 0 0 0 0\n",
      "0 0 0 0 0 1 1 1 1 0 0 0 0 0 0 0 0 0 0 0 0 0 0 0 0 0 0 0 0 0 0 0 0 0 0 0 0 0 0 0 0 0 0 0 0 0 0 0 S S S 0 0 0 0 0 0 0\n",
      "0 0 0 0 0 1 1 1 0 0 0 0 0 0 0 0 0 0 0 0 0 0 0 0 0 0 0 0 0 0 0 0 0 0 0 0 0 0 0 0 0 0 0 0 0 0 0 0 S S S 0 0 0 0 0 0 0\n",
      "0 0 0 0 0 1 1 0 0 0 0 0 0 0 0 0 0 0 0 0 0 0 0 0 0 0 0 0 0 0 0 0 0 0 0 0 0 0 0 0 0 0 0 0 0 0 0 0 0 S S 0 0 0 0 0 0 0\n",
      "0 0 0 0 0 0 0 0 0 0 0 0 0 0 0 0 0 0 0 0 0 0 0 0 0 0 0 0 0 0 0 0 0 0 0 0 0 0 0 0 0 0 0 0 0 0 0 0 0 0 0 0 0 0 0 0 0 0\n",
      "0 0 0 0 0 0 0 0 0 0 0 0 0 0 0 0 0 0 0 0 0 0 0 0 0 0 0 0 0 0 0 0 0 0 0 0 0 0 0 0 0 0 0 0 0 0 0 0 0 0 0 0 0 0 0 0 0 0\n",
      "0 0 0 0 0 0 0 0 0 0 0 0 0 0 0 0 0 0 0 0 0 0 0 0 0 0 0 0 0 0 0 0 0 0 0 0 0 0 0 0 0 0 0 0 0 0 0 0 0 0 0 0 0 0 0 0 0 0\n",
      "0 0 0 0 0 0 0 0 0 0 0 0 0 0 0 0 0 0 0 0 0 0 0 0 0 0 0 0 0 0 0 0 0 0 0 0 0 0 0 0 0 0 0 0 0 0 0 0 0 0 0 0 0 0 0 0 0 0\n",
      "1 0 0 0 0 0 0 0 0 0 0 0 0 0 0 0 0 0 0 0 0 0 0 0 0 0 0 0 0 0 0 0 0 0 0 0 0 0 0 0 0 0 0 0 0 0 0 0 0 0 0 0 0 0 0 0 0 1\n"
     ]
    }
   ],
   "source": [
    "# Imagen de prueba\n",
    "ruta = \"img/Prueba Lab1.bmp\"\n",
    "ruta2 = \"img/Test.bmp\"\n",
    "ruta3 = \"img/Test.bmp\"\n",
    "ruta4 = \"img/turing.bmp\"\n",
    "\n",
    "\n",
    "# Tamaño de pixel definido\n",
    "tamano_celda = 10  \n",
    "\n",
    "# Convertir la imagen en una matriz de celdas\n",
    "matriz_laberinto = discretizar_imagen(ruta, tamano_celda)\n",
    "matriz_laberinto2 = discretizar_imagen(ruta2, tamano_celda)\n",
    "matriz_laberinto3 = discretizar_imagen(ruta3, tamano_celda)\n",
    "matriz_laberinto4 = discretizar_imagen(ruta4, tamano_celda)\n",
    "\n",
    "# Mostrar la matriz discretizada\n",
    "print(\"\\nMatriz del laberinto:\")\n",
    "for fila in matriz_laberinto:\n",
    "    print(\" \".join(fila))"
   ]
  },
  {
   "cell_type": "code",
   "execution_count": 121,
   "metadata": {},
   "outputs": [],
   "source": [
    "class MazeProblem(Problem):\n",
    "    def __init__(self, maze_matrix):\n",
    "        self.maze = maze_matrix\n",
    "        self.initial_state = self.find_start()\n",
    "        self.goal_states = self.find_goals()\n",
    "        super().__init__(self.initial_state)\n",
    "\n",
    "    def find_start(self):\n",
    "        for y, row in enumerate(self.maze):\n",
    "            for x, value in enumerate(row):\n",
    "                if value == 'S':\n",
    "                    return (y, x)\n",
    "        return None\n",
    "\n",
    "    def find_goals(self):\n",
    "        goals = []\n",
    "        for y, row in enumerate(self.maze):\n",
    "            for x, value in enumerate(row):\n",
    "                if value == 'G':\n",
    "                    goals.append((y, x))\n",
    "        return goals\n",
    "\n",
    "    def actions(self, state):\n",
    "        y, x = state\n",
    "        actions = []\n",
    "\n",
    "        if y > 0 and self.maze[y - 1, x] != '1':\n",
    "            actions.append(\"UP\")\n",
    "        if y < self.maze.shape[0] - 1 and self.maze[y + 1, x] != '1':\n",
    "            actions.append(\"DOWN\")\n",
    "        if x > 0 and self.maze[y, x - 1] != '1':\n",
    "            actions.append(\"LEFT\")\n",
    "        if x < self.maze.shape[1] - 1 and self.maze[y, x + 1] != '1':\n",
    "            actions.append(\"RIGHT\")\n",
    "\n",
    "        return actions\n",
    "\n",
    "    def result(self, state, action):\n",
    "        y, x = state\n",
    "        if action == \"UP\":\n",
    "            return (y - 1, x)\n",
    "        elif action == \"DOWN\":\n",
    "            return (y + 1, x)\n",
    "        elif action == \"LEFT\":\n",
    "            return (y, x - 1)\n",
    "        elif action == \"RIGHT\":\n",
    "            return (y, x + 1)\n",
    "        return state\n",
    "\n",
    "    def goal_test(self, state):\n",
    "        return state in self.goal_states\n",
    "\n",
    "    def step_cost(self, state, action, new_state):\n",
    "        # Costo uniforme\n",
    "        return 1 \n",
    "    \n",
    "    def manthattan_distance(self, state):\n",
    "        y, x = state\n",
    "        return min(abs(y - gy) + abs(x - gx) for gy, gx in self.goal_states)\n",
    "\n",
    "    def euclidean_distance(self, state):\n",
    "        y, x = state\n",
    "        return min(((y - gy) ** 2 + (x - gx) ** 2) ** 0.5 for gy, gx in self.goal_states)\n"
   ]
  },
  {
   "cell_type": "code",
   "execution_count": 122,
   "metadata": {},
   "outputs": [
    {
     "name": "stdout",
     "output_type": "stream",
     "text": [
      "Estado inicial: (49, 49)\n",
      "Estados objetivo: [(5, 4), (5, 5), (5, 6), (6, 4), (6, 5), (6, 6), (7, 4), (7, 5), (7, 6)]\n",
      "Acciones posibles desde el estado inicial: ['UP', 'DOWN', 'LEFT', 'RIGHT']\n"
     ]
    }
   ],
   "source": [
    "problema = MazeProblem(matriz_laberinto)\n",
    "\n",
    "print(\"Estado inicial:\", problema.initial_state)\n",
    "print(\"Estados objetivo:\", problema.goal_states)\n",
    "print(\"Acciones posibles desde el estado inicial:\", problema.actions(problema.initial_state))"
   ]
  },
  {
   "cell_type": "markdown",
   "metadata": {},
   "source": [
    "-----------"
   ]
  },
  {
   "cell_type": "markdown",
   "metadata": {},
   "source": [
    "# 1.3 Graph search \n",
    "Construir un algorimo generico familia= de graphSearch. Este recibirá de parámetro una instancia del framework de problemas. Sobre esta familia genérica, implemente los siguientes algoritmos: \n",
    "\n",
    "● Breadth First Search (BFS) \n",
    "\n",
    "● Depth First Search (DFS) \n",
    "\n",
    "● A*: escoja dos heurísticas distintas, y justifique su selección. "
   ]
  },
  {
   "cell_type": "code",
   "execution_count": 123,
   "metadata": {},
   "outputs": [],
   "source": [
    "\n",
    "\n",
    "from collections import deque\n",
    "# busqueda en amplitud\n",
    "class BreadthFirstSearch:\n",
    "    def __init__(self, problem):\n",
    "        self.problem = problem\n",
    "        #fontrera con el estawdo inicial\n",
    "        self.frontier = deque([problem.initial_state])\n",
    "        self.explored = set() #conjunto de esatos explorados\n",
    "        self.path = {problem.initial_state: None} #diccionario para reconstruir el camino\n",
    "        self.solution = None\n",
    "\n",
    "    #buscar el estado objetivo\n",
    "    def search(self):\n",
    "        while self.frontier:\n",
    "            state = self.frontier.popleft()\n",
    "\n",
    "            if self.problem.goal_test(state):\n",
    "                return self.reconstruct_path(state)\n",
    "            \n",
    "            self.explored.add(state)\n",
    "\n",
    "            for action in self.problem.actions(state):\n",
    "                child = self.problem.result(state, action)\n",
    "                if child not in self.explored and child not in self.frontier:\n",
    "                    self.frontier.append(child)\n",
    "                    self.path[child] = (state, action)\n",
    "\n",
    "        return None\n",
    "\n",
    "\n",
    "    #reconstruir el camino\n",
    "    def reconstruct_path(self, state):\n",
    "        actions = []\n",
    "        while self.path[state]:\n",
    "            state, action = self.path[state]\n",
    "            actions.append(action)\n",
    "        actions.reverse()\n",
    "        return actions"
   ]
  },
  {
   "cell_type": "code",
   "execution_count": 124,
   "metadata": {},
   "outputs": [
    {
     "name": "stdout",
     "output_type": "stream",
     "text": [
      "Camino encontrado con BFS:  ['UP', 'UP', 'UP', 'UP', 'UP', 'UP', 'UP', 'UP', 'UP', 'LEFT', 'LEFT', 'LEFT', 'LEFT', 'LEFT', 'LEFT', 'LEFT', 'LEFT', 'LEFT', 'LEFT', 'UP', 'LEFT', 'UP', 'UP', 'UP', 'UP', 'LEFT', 'LEFT', 'LEFT', 'LEFT', 'UP', 'LEFT', 'UP', 'LEFT', 'LEFT', 'UP', 'LEFT', 'LEFT', 'UP', 'LEFT', 'UP', 'LEFT', 'UP', 'UP', 'UP', 'UP', 'LEFT', 'LEFT', 'LEFT', 'LEFT', 'LEFT', 'LEFT', 'LEFT', 'LEFT', 'LEFT', 'LEFT', 'LEFT', 'LEFT', 'LEFT', 'LEFT', 'LEFT']\n"
     ]
    }
   ],
   "source": [
    "problema2 = MazeProblem(matriz_laberinto2)\n",
    "\n",
    "bfs = BreadthFirstSearch(problema2)\n",
    "acciones = bfs.search()\n",
    "\n",
    "print(\"Camino encontrado con BFS: \", acciones)\n"
   ]
  },
  {
   "cell_type": "code",
   "execution_count": 125,
   "metadata": {},
   "outputs": [],
   "source": [
    "\n",
    "\n",
    "# busqueda en profundidad\n",
    "#este funciona con pilas\n",
    "class DepthFirstSearch:\n",
    "    def __init__(self, problem):\n",
    "        self.problem = problem\n",
    "        self.frontier = [problem.initial_state]\n",
    "        self.explored = set()\n",
    "        self.path = {problem.initial_state: None}\n",
    "        self.solution = None\n",
    "\n",
    "    #buscar el estado objetivo\n",
    "    def search(self):\n",
    "        while self.frontier:\n",
    "            state = self.frontier.pop()\n",
    "\n",
    "            if self.problem.goal_test(state):\n",
    "                return self.reconstruct_path(state)\n",
    "            \n",
    "            self.explored.add(state)\n",
    "\n",
    "            for action in self.problem.actions(state):\n",
    "                child = self.problem.result(state, action)\n",
    "                if child not in self.explored and child not in self.frontier:\n",
    "                    self.frontier.append(child)\n",
    "                    self.path[child] = (state, action)\n",
    "\n",
    "        return None\n",
    "    \n",
    "    #reconstruir el camino\n",
    "    def reconstruct_path(self, state):\n",
    "        actions = []\n",
    "        while self.path[state] is not None:\n",
    "            state, action = self.path[state]\n",
    "            actions.append(action)\n",
    "        actions.reverse()\n",
    "        return actions\n",
    "    "
   ]
  },
  {
   "cell_type": "code",
   "execution_count": 126,
   "metadata": {},
   "outputs": [
    {
     "name": "stdout",
     "output_type": "stream",
     "text": [
      "Camino encontrado con DFS:  ['RIGHT', 'DOWN', 'DOWN', 'LEFT', 'LEFT', 'LEFT', 'LEFT', 'LEFT', 'LEFT', 'LEFT', 'LEFT', 'LEFT', 'LEFT', 'LEFT', 'LEFT', 'LEFT', 'LEFT', 'LEFT', 'LEFT', 'LEFT', 'LEFT', 'LEFT', 'UP', 'UP', 'RIGHT', 'RIGHT', 'RIGHT', 'RIGHT', 'UP', 'UP', 'LEFT', 'LEFT', 'LEFT', 'UP', 'UP', 'RIGHT', 'RIGHT', 'RIGHT', 'UP', 'RIGHT', 'UP', 'RIGHT', 'RIGHT', 'RIGHT', 'RIGHT', 'RIGHT', 'RIGHT', 'RIGHT', 'RIGHT', 'RIGHT', 'RIGHT', 'RIGHT', 'RIGHT', 'RIGHT', 'RIGHT', 'UP', 'UP', 'LEFT', 'LEFT', 'LEFT', 'LEFT', 'LEFT', 'LEFT', 'LEFT', 'LEFT', 'LEFT', 'LEFT', 'LEFT', 'LEFT', 'LEFT', 'LEFT', 'LEFT', 'LEFT', 'LEFT', 'LEFT', 'LEFT', 'LEFT', 'UP', 'UP', 'RIGHT', 'RIGHT', 'RIGHT', 'RIGHT', 'RIGHT', 'RIGHT', 'RIGHT', 'RIGHT', 'UP', 'UP', 'RIGHT', 'UP', 'RIGHT', 'UP', 'UP', 'RIGHT', 'UP', 'RIGHT', 'UP', 'RIGHT', 'UP', 'RIGHT', 'UP', 'RIGHT', 'RIGHT', 'RIGHT', 'RIGHT', 'RIGHT', 'RIGHT', 'RIGHT', 'RIGHT', 'RIGHT', 'RIGHT', 'RIGHT', 'RIGHT', 'RIGHT', 'RIGHT', 'RIGHT', 'RIGHT', 'RIGHT', 'UP', 'UP', 'LEFT', 'LEFT', 'LEFT', 'LEFT', 'LEFT', 'LEFT', 'LEFT', 'LEFT', 'LEFT', 'LEFT', 'LEFT', 'LEFT', 'LEFT', 'LEFT', 'LEFT', 'LEFT', 'LEFT', 'LEFT', 'LEFT', 'LEFT', 'LEFT', 'LEFT', 'LEFT', 'UP', 'LEFT', 'UP', 'LEFT', 'LEFT', 'UP', 'LEFT', 'UP', 'LEFT', 'UP', 'LEFT', 'UP', 'LEFT', 'LEFT', 'UP', 'LEFT', 'UP', 'LEFT', 'LEFT', 'LEFT', 'LEFT', 'LEFT', 'LEFT', 'LEFT', 'DOWN', 'DOWN', 'RIGHT', 'RIGHT', 'RIGHT', 'RIGHT', 'RIGHT', 'DOWN', 'DOWN', 'LEFT', 'LEFT', 'LEFT', 'LEFT', 'LEFT', 'DOWN', 'LEFT', 'LEFT', 'LEFT', 'LEFT', 'LEFT', 'LEFT', 'LEFT', 'LEFT', 'LEFT', 'LEFT']\n"
     ]
    }
   ],
   "source": [
    "problema3 = MazeProblem(matriz_laberinto2)\n",
    "\n",
    "dfs = DepthFirstSearch(problema3)\n",
    "\n",
    "acciones = dfs.search()\n",
    "\n",
    "print(\"Camino encontrado con DFS: \", acciones)\n"
   ]
  },
  {
   "cell_type": "markdown",
   "metadata": {},
   "source": [
    "A* Heuristica: Manhattan Distance\n",
    "se escogio, debido a que en el link (https://www.geeksforgeeks.org/a-search-algorithm/) proporcionado en los modulos de la clase , se explica de manera clara y sencilla la implementacion de este algoritmo, entonces se escogio este porque se miraba mas facil de implementar y entender."
   ]
  },
  {
   "cell_type": "code",
   "execution_count": 127,
   "metadata": {},
   "outputs": [
    {
     "name": "stdout",
     "output_type": "stream",
     "text": [
      "distancias de manhattan:  [39, 40, 41, 42, 43, 44, 45, 46, 47, 48, 49, 50, 51, 52, 51, 50, 49, 48, 47, 46, 45, 44, 43, 42, 43, 44, 45, 46, 45, 44, 43, 42, 41, 40, 39, 40, 41, 42, 41, 42, 41, 42, 43, 44, 43, 42, 41, 40, 39, 38, 37, 36, 35, 34, 33, 32, 31, 32, 33, 34, 35, 36, 37, 38, 39, 40, 41, 42, 41, 40, 39, 38, 37, 36, 35, 34, 33, 32, 31, 32, 33, 34, 35, 36, 37, 38, 39, 38, 37, 38, 37, 36, 35, 34, 33, 32, 31, 30, 29, 28, 27, 26, 25, 24, 23, 22, 21, 20, 19, 18, 19, 20, 21, 22, 23, 24, 25, 26, 27, 26, 25, 24, 23, 22, 21, 20, 19, 18, 17, 16, 17, 18, 19, 20, 21, 22, 23, 24, 25, 26, 27, 28, 29, 28, 27, 26, 25, 24, 23, 23, 22, 23, 22, 23, 22, 23, 22, 21, 22, 21, 22, 21, 20, 19, 18, 17, 16, 15, 14, 13, 14, 15, 16, 17, 18, 17, 16, 15, 14, 13, 12, 11, 10, 9, 8, 7, 6, 5, 4, 3, 2, 1, 1, 0]\n"
     ]
    }
   ],
   "source": [
    "# 1. A* Heuristica: Manhattan Distance \n",
    "\n",
    "#esta en la clase de MazeProblem el metodo\n",
    "\n",
    "acciones = dfs.search()\n",
    "estado_actual = problema3.initial_state\n",
    "\n",
    "heuristicas =[]\n",
    "\n",
    "for accion in acciones:\n",
    "\testado_actual = problema3.result(estado_actual, accion)\n",
    "\t# print(estado_actual)\n",
    "\theuristica = problema3.manthattan_distance(estado_actual)\n",
    "\theuristicas.append(heuristica)\n",
    "print(\"distancias de manhattan: \", heuristicas)\n",
    "\n"
   ]
  },
  {
   "cell_type": "markdown",
   "metadata": {},
   "source": [
    "A* Heuristica Euclidean Distance, se escogio por la misma razon que la de Manthattan Distance."
   ]
  },
  {
   "cell_type": "code",
   "execution_count": 128,
   "metadata": {},
   "outputs": [
    {
     "name": "stdout",
     "output_type": "stream",
     "text": [
      "distancias de euclidean:  [37.05401462729781, 38.05259518088089, 39.05124837953327, 39.11521443121589, 39.20459156782532, 39.319206502675, 39.45883931389772, 39.6232255123179, 39.81205847478876, 39.824615503479755, 39.05124837953327, 38.28837943815329, 37.53664875824692, 36.796738985948195, 36.069377593742864, 35.35533905932738, 34.655446902326915, 33.97057550292606, 33.301651610693426, 32.64965543462902, 32.01562118716424, 31.400636936215164, 30.610455730027933, 29.832867780352597, 30.479501308256342, 31.144823004794873, 31.827660925679098, 32.526911934581186, 31.827660925679098, 31.144823004794873, 30.4138126514911, 29.698484809834994, 29.0, 28.284271247461902, 27.586228448267445, 28.319604517012593, 29.068883707497267, 29.832867780352597, 29.206163733020468, 30.0, 29.410882339705484, 30.23243291566195, 31.064449134018133, 31.906112267087632, 32.7566787083184, 32.89376840679705, 32.57299494980466, 32.28002478313795, 32.01562118716424, 31.78049716414141, 31.575306807693888, 31.400636936215164, 31.25699921617557, 31.144823004794873, 31.064449134018133, 30.066592756745816, 29.068883707497267, 29.154759474226502, 29.274562336608895, 29.427877939124322, 29.614185789921695, 29.832867780352597, 30.083217912982647, 30.364452901377952, 30.675723300355934, 31.016124838541646, 31.38470965295043, 30.886890422961002, 30.01666203960727, 29.154759474226502, 28.30194339616981, 27.459060435491963, 26.627053911388696, 25.80697580112788, 25.0, 24.20743687382041, 23.430749027719962, 22.80350850198276, 22.20360331117452, 23.021728866442675, 23.853720883753127, 24.698178070456937, 25.553864678361276, 26.419689627245813, 27.294688127912362, 28.178005607210743, 29.068883707497267, 28.635642126552707, 28.231188426986208, 28.178005607210743, 27.294688127912362, 26.832815729997478, 25.942243542145693, 25.059928172283335, 24.596747752497688, 23.706539182259394, 23.259406699226016, 22.360679774997898, 21.93171219946131, 21.02379604162864, 20.615528128088304, 19.697715603592208, 19.313207915827967, 18.973665961010276, 18.681541692269406, 18.439088914585774, 18.24828759089466, 18.110770276274835, 18.027756377319946, 18.0, 18.027756377319946, 18.110770276274835, 18.24828759089466, 18.439088914585774, 18.681541692269406, 18.973665961010276, 19.313207915827967, 19.697715603592208, 20.12461179749811, 19.235384061671343, 18.35755975068582, 17.88854381999832, 17.46424919657298, 17.08800749063506, 16.76305461424021, 16.492422502470642, 16.278820596099706, 16.1245154965971, 16.0312195418814, 16.0, 16.0312195418814, 16.1245154965971, 16.278820596099706, 16.492422502470642, 16.76305461424021, 17.08800749063506, 17.46424919657298, 17.88854381999832, 18.35755975068582, 18.867962264113206, 19.4164878389476, 20.0, 20.615528128088304, 21.2602916254693, 20.518284528683193, 21.213203435596427, 20.518284528683193, 21.2602916254693, 22.02271554554524, 21.400934559032695, 22.0, 21.633307652783937, 21.02379604162864, 21.095023109728988, 20.09975124224178, 20.223748416156685, 19.235384061671343, 18.24828759089466, 18.439088914585774, 17.46424919657298, 17.72004514666935, 16.76305461424021, 15.811388300841896, 14.866068747318506, 13.92838827718412, 13.0, 12.083045973594572, 11.180339887498949, 10.770329614269007, 10.44030650891055, 11.40175425099138, 12.36931687685298, 13.341664064126334, 14.317821063276353, 15.297058540778355, 15.132745950421556, 15.033296378372908, 14.035668847618199, 13.038404810405298, 12.041594578792296, 11.045361017187261, 10.04987562112089, 10.0, 9.0, 8.0, 7.0, 6.0, 5.0, 4.0, 3.0, 2.0, 1.0, 1.0, 1.4142135623730951, 2.23606797749979, 3.1622776601683795, 3.605551275463989, 4.242640687119285, 3.605551275463989, 3.1622776601683795, 3.0, 3.1622776601683795, 2.23606797749979, 1.4142135623730951, 2.23606797749979, 3.1622776601683795, 4.123105625617661, 5.0990195135927845, 6.082762530298219, 7.0710678118654755, 8.06225774829855, 8.0, 8.0, 7.0, 6.0, 5.0, 4.0, 3.0, 2.0, 1.0, 0.0]\n"
     ]
    }
   ],
   "source": [
    "#este tambien esta implementado en la clase de maze problem\n",
    "acciones = dfs.search()\n",
    "estado_actual = problema3.initial_state\n",
    "\n",
    "heuristicas =[]\n",
    "\n",
    "for accion in acciones:\n",
    "\testado_actual = problema3.result(estado_actual, accion)\n",
    "\t# print(estado_actual)\n",
    "\theuristica = problema3.euclidean_distance(estado_actual)\n",
    "\theuristicas.append(heuristica)\n",
    "print(\"distancias de euclidean: \", heuristicas)\n"
   ]
  }
 ],
 "metadata": {
  "kernelspec": {
   "display_name": "Python 3",
   "language": "python",
   "name": "python3"
  },
  "language_info": {
   "codemirror_mode": {
    "name": "ipython",
    "version": 3
   },
   "file_extension": ".py",
   "mimetype": "text/x-python",
   "name": "python",
   "nbconvert_exporter": "python",
   "pygments_lexer": "ipython3",
   "version": "3.11.9"
  }
 },
 "nbformat": 4,
 "nbformat_minor": 2
}
